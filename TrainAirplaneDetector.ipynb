{
  "nbformat": 4,
  "nbformat_minor": 0,
  "metadata": {
    "colab": {
      "name": "TrainAirplaneDetector.ipynb",
      "provenance": []
    },
    "kernelspec": {
      "name": "python3",
      "display_name": "Python 3"
    },
    "accelerator": "GPU"
  },
  "cells": [
    {
      "cell_type": "code",
      "metadata": {
        "id": "98K9F5RqG4TQ"
      },
      "source": [
        "#!pip install detecto"
      ],
      "execution_count": null,
      "outputs": []
    },
    {
      "cell_type": "code",
      "metadata": {
        "id": "oKuMlbdxJmmd",
        "outputId": "23263114-b2af-4dec-db40-bc1dad93cfda",
        "colab": {
          "base_uri": "https://localhost:8080/",
          "height": 35
        }
      },
      "source": [
        "cd '/content/drive/My Drive/praying pals/airplane detector/'"
      ],
      "execution_count": 19,
      "outputs": [
        {
          "output_type": "stream",
          "text": [
            "/content/drive/My Drive/praying pals/airplane detector\n"
          ],
          "name": "stdout"
        }
      ]
    },
    {
      "cell_type": "code",
      "metadata": {
        "id": "Lp6leUyhJwFj"
      },
      "source": [
        "import os\n",
        "import pandas as pd\n",
        "import random\n",
        "import torch\n",
        "import torchvision\n",
        "import cv2\n",
        "\n",
        "#from detecto.config import config\n",
        "#from detecto.utils import default_transforms, filter_top_predictions, xml_to_csv, _is_iterable, read_image\n",
        "from torchvision import transforms\n",
        "from torchvision.models.detection.faster_rcnn import FastRCNNPredictor\n",
        "#from utils import default_transforms, filter_top_p\n"
      ],
      "execution_count": 1,
      "outputs": []
    },
    {
      "cell_type": "code",
      "metadata": {
        "id": "Nivwggd-P_dg"
      },
      "source": [
        "\n",
        "import cv2\n",
        "import os\n",
        "import pandas as pd\n",
        "import torch\n",
        "import xml.etree.ElementTree as ET\n",
        "\n",
        "from glob import glob\n",
        "from torchvision import transforms\n",
        "import matplotlib.patches as patches"
      ],
      "execution_count": 71,
      "outputs": []
    },
    {
      "cell_type": "code",
      "metadata": {
        "id": "8GVa9SpRMQYd"
      },
      "source": [
        "import cv2"
      ],
      "execution_count": 3,
      "outputs": []
    },
    {
      "cell_type": "code",
      "metadata": {
        "id": "-RKF0nEmKfNX"
      },
      "source": [
        "def xml_to_csv(xml_folder, output_file=None):\n",
        "\n",
        "    xml_list = []\n",
        "    # Loop through every XML file\n",
        "    for xml_file in glob(xml_folder + '/*.xml'):\n",
        "        tree = ET.parse(xml_file)\n",
        "        root = tree.getroot()\n",
        "\n",
        "        filename = root.find('filename').text\n",
        "        size = root.find('size')\n",
        "        width = int(size.find('width').text)\n",
        "        height = int(size.find('height').text)\n",
        "\n",
        "        # Each object represents each actual image label\n",
        "        for member in root.findall('object'):\n",
        "            box = member.find('bndbox')\n",
        "            label = member.find('name').text\n",
        "\n",
        "            # Add image file name, image size, label, and box coordinates to CSV file\n",
        "            row = (filename, width, height, label, int(float(box[0].text)),\n",
        "                   int(float(box[1].text)), int(float(box[2].text)), int(float(box[3].text)))\n",
        "            xml_list.append(row)\n",
        "\n",
        "    # Save as a CSV file\n",
        "    column_names = ['filename', 'width', 'height', 'class', 'xmin', 'ymin', 'xmax', 'ymax']\n",
        "    xml_df = pd.DataFrame(xml_list, columns=column_names)\n",
        "\n",
        "    if output_file is not None:\n",
        "        xml_df.to_csv(output_file, index=None)\n",
        "\n",
        "    return xml_df"
      ],
      "execution_count": 4,
      "outputs": []
    },
    {
      "cell_type": "code",
      "metadata": {
        "id": "oEUhKyv5ik2E"
      },
      "source": [
        "#from detecto import core, utils\n",
        "from torchvision import transforms\n",
        "import matplotlib.pyplot as plt\n",
        "\n",
        "# Change data format\n",
        "\n",
        "#xml_to_csv('train_labels/', 'train_labels.csv')\n",
        "#xml_to_csv('val_labels/', 'val_labels.csv')\n",
        "\n",
        "\n"
      ],
      "execution_count": 5,
      "outputs": []
    },
    {
      "cell_type": "code",
      "metadata": {
        "id": "mT5JuCCFKznR"
      },
      "source": [
        "#import core"
      ],
      "execution_count": null,
      "outputs": []
    },
    {
      "cell_type": "code",
      "metadata": {
        "id": "aljoENYhUyBH"
      },
      "source": [
        "\n",
        "class Dataset(torch.utils.data.Dataset):\n",
        "\n",
        "    def __init__(self, label_data, image_folder=None, transform=None):\n",
        "\n",
        "        # CSV file contains: filename, width, height, class, xmin, ymin, xmax, ymax\n",
        "        if os.path.isfile(label_data):\n",
        "            self._csv = pd.read_csv(label_data)\n",
        "        else:\n",
        "            self._csv = xml_to_csv(label_data)\n",
        "\n",
        "        # If image folder not given, set it to labels folder\n",
        "        if image_folder is None:\n",
        "            self._root_dir = label_data\n",
        "        else:\n",
        "            self._root_dir = image_folder\n",
        "\n",
        "        if transform is None:\n",
        "            self.transform = default_transforms()\n",
        "        else:\n",
        "            self.transform = transform\n",
        "\n",
        "    # Returns the length of this dataset\n",
        "    def __len__(self):\n",
        "        return len(self._csv)\n",
        "\n",
        "    # Is what allows you to index the dataset, e.g. dataset[0]\n",
        "    # dataset[index] returns a tuple containing the image and the targets dict\n",
        "    def __getitem__(self, idx):\n",
        "        if torch.is_tensor(idx):\n",
        "            idx = idx.tolist()\n",
        "\n",
        "        # Read in the image from the file name in the 0th column\n",
        "        img_name = os.path.join(self._root_dir, self._csv.iloc[idx, 0])\n",
        "        image = read_image(img_name)\n",
        "\n",
        "        # Read in xmin, ymin, xmax, and ymax\n",
        "        box = self._csv.iloc[idx, 4:]\n",
        "        box = torch.tensor(box).view(1, 4)\n",
        "\n",
        "        # Read in the label\n",
        "        label = self._csv.iloc[idx, 3]\n",
        "\n",
        "        targets = {'boxes': box, 'labels': label}\n",
        "\n",
        "        # Perform transformations\n",
        "        if self.transform:\n",
        "            width = self._csv.loc[idx, 'width']\n",
        "            height = self._csv.loc[idx, 'height']\n",
        "\n",
        "            # Apply the transforms manually to be able to deal with\n",
        "            # transforms like Resize or RandomHorizontalFlip\n",
        "            updated_transforms = []\n",
        "            scale_factor = 1.0\n",
        "            random_flip = 0.0\n",
        "            for t in self.transform.transforms:\n",
        "                # Add each transformation to our list\n",
        "                updated_transforms.append(t)\n",
        "\n",
        "                # If a resize transformation exists, scale down the coordinates\n",
        "                # of the box by the same amount as the resize\n",
        "                if isinstance(t, transforms.Resize):\n",
        "                    original_size = min(height, width)\n",
        "                    scale_factor = original_size / t.size\n",
        "\n",
        "                # If a horizontal flip transformation exists, get its probability\n",
        "                # so we can apply it manually to both the image and the boxes.\n",
        "                elif isinstance(t, transforms.RandomHorizontalFlip):\n",
        "                    random_flip = t.p\n",
        "\n",
        "            # Apply each transformation manually\n",
        "            for t in updated_transforms:\n",
        "                # Handle the horizontal flip case, where we need to apply\n",
        "                # the transformation to both the image and the box labels\n",
        "                if isinstance(t, transforms.RandomHorizontalFlip):\n",
        "                    if random.random() < random_flip:\n",
        "                        image = transforms.RandomHorizontalFlip(1)(image)\n",
        "                        # Flip box's x-coordinates\n",
        "                        box[0, 0] = width - box[0, 0]\n",
        "                        box[0, 2] = width - box[0, 2]\n",
        "                        box[0, 0], box[0, 2] = box[0, (2, 0)]\n",
        "                else:\n",
        "                    image = t(image)\n",
        "\n",
        "            # Scale down box if necessary\n",
        "            targets['boxes'] = (box / scale_factor).long()\n",
        "\n",
        "        return image, targets\n"
      ],
      "execution_count": 6,
      "outputs": []
    },
    {
      "cell_type": "code",
      "metadata": {
        "id": "9uoO8YbvEIsK"
      },
      "source": [
        "\n",
        "custom_transforms = transforms.Compose([\n",
        "    transforms.ToPILImage(),\n",
        "    transforms.Resize(800),\n",
        "    transforms.ColorJitter(saturation=0.2),\n",
        "    transforms.ToTensor(),\n",
        "    transforms.Normalize(mean=[0.485, 0.456, 0.406], std=[0.229, 0.224, 0.225]),\n",
        "])\n",
        "\n",
        "dataset = Dataset('/content/drive/My Drive/praying pals/airplane detector/train_labels2.csv',\n",
        "                       '/content/drive/My Drive/praying pals/airplane detector/trainimages',\n",
        "                       transform=custom_transforms)\n",
        "\n",
        "# Validation dataset\n",
        "\n",
        "val_dataset = Dataset('/content/drive/My Drive/praying pals/airplane detector/val_labels2.csv', \n",
        "                           '/content/drive/My Drive/praying pals/airplane detector/trainimages',\n",
        "                           transform=custom_transforms)\n",
        "\n",
        "# Customize training options\n"
      ],
      "execution_count": 7,
      "outputs": []
    },
    {
      "cell_type": "code",
      "metadata": {
        "id": "sJANVU-bvabN"
      },
      "source": [
        "\n",
        "class DataLoader(torch.utils.data.DataLoader):\n",
        "\n",
        "    def __init__(self, dataset, **kwargs):\n",
        "\n",
        "        super().__init__(dataset, collate_fn=DataLoader.collate_data, **kwargs)\n",
        "\n",
        "    # Converts a list of tuples into a tuple of lists so that\n",
        "    # it can properly be fed to the model for training\n",
        "    @staticmethod\n",
        "    def collate_data(batch):\n",
        "        images, targets = zip(*batch)\n",
        "        return list(images), list(targets)"
      ],
      "execution_count": 8,
      "outputs": []
    },
    {
      "cell_type": "code",
      "metadata": {
        "id": "QuS3VlmSKt6t"
      },
      "source": [
        "\n",
        "loader = DataLoader(dataset, batch_size=2, shuffle=True)\n"
      ],
      "execution_count": 9,
      "outputs": []
    },
    {
      "cell_type": "code",
      "metadata": {
        "id": "dSdUggbKwtkR"
      },
      "source": [
        "#core\n",
        "config = {\n",
        "    'default_device': torch.device('cuda') if torch.cuda.is_available() else torch.device('cpu'),\n",
        "    'default_classes': [\n",
        "        'plane'\n",
        "    ]\n",
        "}\n"
      ],
      "execution_count": 16,
      "outputs": []
    },
    {
      "cell_type": "code",
      "metadata": {
        "id": "sl09J4zLFj5s"
      },
      "source": [
        "def _is_iterable(variable):\n",
        "    return isinstance(variable, list) or isinstance(variable, tuple)"
      ],
      "execution_count": 54,
      "outputs": []
    },
    {
      "cell_type": "code",
      "metadata": {
        "id": "3acFScCAF3Hz"
      },
      "source": [
        "def normalize_transform():\n",
        "    return transforms.Normalize(mean=[0.485, 0.456, 0.406], std=[0.229, 0.224, 0.225])\n"
      ],
      "execution_count": 58,
      "outputs": []
    },
    {
      "cell_type": "code",
      "metadata": {
        "id": "Z-upiQlNUvcf"
      },
      "source": [
        "class Model:\n",
        "\n",
        "    def __init__(self, classes=None, device=None):\n",
        "        \"\"\"Initializes a machine learning model for object detection.\n",
        "        Models are built on top of PyTorch's `pre-trained models\n",
        "        <https://pytorch.org/docs/stable/torchvision/models.html>`_,\n",
        "        specifically the Faster R-CNN ResNet-50 FPN, but allow for\n",
        "        fine-tuning to predict on custom classes/labels.\n",
        "\n",
        "        :param classes: (Optional) A list of classes/labels for the model\n",
        "            to predict. If none given, uses the default classes specified\n",
        "            `here <https://pytorch.org/docs/stable/torchvision/models.html\n",
        "            #object-detection-instance-segmentation-and-person-keypoint-detection>`_.\n",
        "            Defaults to None.\n",
        "        :type classes: list or None\n",
        "        :param device: (Optional) The device on which to run the model,\n",
        "            such as the CPU or GPU. See `here\n",
        "            <https://pytorch.org/docs/stable/tensor_attributes.html#torch-device>`_\n",
        "            for details on specifying the device. Defaults to the GPU if\n",
        "            available and the CPU if not.\n",
        "        :type device: torch.device or None\n",
        "\n",
        "        **Example**::\n",
        "\n",
        "            >>> from detecto.core import Model\n",
        "\n",
        "            >>> model = Model(['dog', 'cat', 'bunny'])\n",
        "        \"\"\"\n",
        "\n",
        "        self._device = device if device else config['default_device']\n",
        "\n",
        "        # Load a model pre-trained on COCO\n",
        "        self._model = torchvision.models.detection.fasterrcnn_resnet50_fpn(pretrained=True)\n",
        "\n",
        "        if classes:\n",
        "            # Get the number of input features for the classifier\n",
        "            in_features = self._model.roi_heads.box_predictor.cls_score.in_features\n",
        "            # Replace the pre-trained head with a new one (note: +1 because of the __background__ class)\n",
        "            self._model.roi_heads.box_predictor = FastRCNNPredictor(in_features, len(classes) + 1)\n",
        "            self._disable_normalize = False\n",
        "        else:\n",
        "            classes = config['default_classes']\n",
        "            self._disable_normalize = True\n",
        "\n",
        "        self._model.to(self._device)\n",
        "\n",
        "        # Mappings to convert from string labels to ints and vice versa\n",
        "        self._classes = ['__background__'] + classes\n",
        "        self._int_mapping = {label: index for index, label in enumerate(self._classes)}\n",
        "\n",
        "    def _is_iterable(variable):\n",
        "        return isinstance(variable, list) or isinstance(variable, tuple)\n",
        "\n",
        "\n",
        "    # Returns the raw predictions from feeding an image or list of images into the model\n",
        "    def _get_raw_predictions(self, images):\n",
        "        self._model.eval()\n",
        "\n",
        "        with torch.no_grad():\n",
        "            # Convert image into a list of length 1 if not already a list\n",
        "            if not _is_iterable(images):\n",
        "                images = [images]\n",
        "\n",
        "            # Convert to tensor and normalize if not already\n",
        "            if not isinstance(images[0], torch.Tensor):\n",
        "                # This is a temporary workaround to the bad accuracy\n",
        "                # when normalizing on default weights. Will need to\n",
        "                # investigate further TODO\n",
        "                if self._disable_normalize:\n",
        "                    defaults = transforms.Compose([transforms.ToTensor()])\n",
        "                else:\n",
        "                    defaults = default_transforms()\n",
        "                images = [defaults(img) for img in images]\n",
        "\n",
        "            # Send images to the specified device\n",
        "            images = [img.to(self._device) for img in images]\n",
        "\n",
        "            preds = self._model(images)\n",
        "            # Send predictions to CPU if not already\n",
        "            preds = [{k: v.to(torch.device('cpu')) for k, v in p.items()} for p in preds]\n",
        "            return preds\n",
        "\n",
        "    def predict(self, images):\n",
        "        # Convert all to lists but keep track if a single image was given\n",
        "        is_single_image = not _is_iterable(images)\n",
        "        images = [images] if is_single_image else images\n",
        "        preds = self._get_raw_predictions(images)\n",
        "\n",
        "        results = []\n",
        "        for pred in preds:\n",
        "            # Convert predicted ints into their corresponding string labels\n",
        "            result = ([self._classes[val] for val in pred['labels']], pred['boxes'], pred['scores'])\n",
        "            results.append(result)\n",
        "\n",
        "        return results[0] if is_single_image else results\n",
        "\n",
        "    def predict_top(self, images):\n",
        "        predictions = self.predict(images)\n",
        "\n",
        "        # If tuple but not list, then images is a single image\n",
        "        if not isinstance(predictions, list):\n",
        "            return filter_top_predictions(*predictions)\n",
        "\n",
        "        results = []\n",
        "        for pred in predictions:\n",
        "            results.append(filter_top_predictions(*pred))\n",
        "\n",
        "        return results\n",
        "\n",
        "    def fit(self, dataset, val_dataset=None, epochs=10, learning_rate=0.005, momentum=0.9,\n",
        "            weight_decay=0.0005, gamma=0.1, lr_step_size=3, verbose=False):\n",
        "\n",
        "        # If doing custom training, the given images will most likely be\n",
        "        # normalized. This should fix the issue of poor performance on\n",
        "        # default classes when normalizing, so resume normalizing. TODO\n",
        "        if epochs > 0:\n",
        "            self._disable_normalize = False\n",
        "\n",
        "        # Convert dataset to data loader if not already\n",
        "        if not isinstance(dataset, DataLoader):\n",
        "            dataset = DataLoader(dataset, shuffle=True)\n",
        "\n",
        "        if val_dataset is not None and not isinstance(val_dataset, DataLoader):\n",
        "            val_dataset = DataLoader(val_dataset)\n",
        "\n",
        "        losses = []\n",
        "        # Get parameters that have grad turned on (i.e. parameters that should be trained)\n",
        "        parameters = [p for p in self._model.parameters() if p.requires_grad]\n",
        "        # Create an optimizer that uses SGD (stochastic gradient descent) to train the parameters\n",
        "        \n",
        "        print(\"optimizer is Adam\")\n",
        "        optimizer = torch.optim.Adam(parameters, lr =learning_rate)\n",
        "        #optimizer = torch.optim.SGD(parameters, lr=learning_rate, momentum=momentum, weight_decay=weight_decay)\n",
        "        # Create a learning rate scheduler that decreases learning rate by gamma every lr_step_size epochs\n",
        "        \n",
        "        #lr_scheduler = torch.optim.lr_scheduler.StepLR(optimizer, step_size=lr_step_size, gamma=gamma)\n",
        "\n",
        "        # Train on the entire dataset for the specified number of times (epochs)\n",
        "        for epoch in range(epochs):\n",
        "            if verbose:\n",
        "                print('Epoch {} of {}'.format(epoch + 1, epochs))\n",
        "\n",
        "            # Training step\n",
        "            self._model.train()\n",
        "            for images, targets in dataset:\n",
        "                self._convert_to_int_labels(targets)\n",
        "                images, targets = self._to_device(images, targets)\n",
        "\n",
        "                # Calculate the model's loss (i.e. how well it does on the current\n",
        "                # image and target, with a lower loss being better)\n",
        "                loss_dict = self._model(images, targets)\n",
        "                total_loss = sum(loss for loss in loss_dict.values())\n",
        "\n",
        "                # Zero any old/existing gradients on the model's parameters\n",
        "                optimizer.zero_grad()\n",
        "                # Compute gradients for each parameter based on the current loss calculation\n",
        "                total_loss.backward()\n",
        "                # Update model parameters from gradients: param -= learning_rate * param.grad\n",
        "                optimizer.step()\n",
        "\n",
        "            # Validation step\n",
        "            if val_dataset is not None:\n",
        "                avg_loss = 0\n",
        "                with torch.no_grad():\n",
        "                    for images, targets in val_dataset:\n",
        "                        self._convert_to_int_labels(targets)\n",
        "                        images, targets = self._to_device(images, targets)\n",
        "                        loss_dict = self._model(images, targets)\n",
        "                        total_loss = sum(loss for loss in loss_dict.values())\n",
        "                        avg_loss += total_loss.item()\n",
        "\n",
        "                avg_loss /= len(val_dataset.dataset)\n",
        "                losses.append(avg_loss)\n",
        "\n",
        "                if verbose:\n",
        "                    print('Loss: {}'.format(avg_loss))\n",
        "\n",
        "            # Update the learning rate every few epochs\n",
        "            #lr_scheduler.step()\n",
        "\n",
        "        if len(losses) > 0:\n",
        "            return losses\n",
        "\n",
        "    def get_internal_model(self):\n",
        "        return self._model\n",
        "\n",
        "    def save(self, file):\n",
        "        torch.save(self._model.state_dict(), file)\n",
        "\n",
        "    @staticmethod\n",
        "    def load(file, classes):\n",
        "        model = Model(classes)\n",
        "        model._model.load_state_dict(torch.load(file, map_location=model._device))\n",
        "        return model\n",
        "\n",
        "    def _convert_to_int_labels(self, targets):\n",
        "        for target in targets:\n",
        "            target['labels'] = torch.tensor(self._int_mapping[target['labels']]).view(1)\n",
        "\n",
        "    def _to_device(self, images, targets):\n",
        "        images = [image.to(self._device) for image in images]\n",
        "        targets = [{k: v.to(self._device) for k, v in t.items()} for t in targets]\n",
        "        return images, targets\n",
        "\n"
      ],
      "execution_count": 55,
      "outputs": []
    },
    {
      "cell_type": "code",
      "metadata": {
        "id": "O3e40N67vqXL",
        "outputId": "bc448c56-e352-49f1-a270-ca97c8950a79",
        "colab": {
          "base_uri": "https://localhost:8080/",
          "height": 35
        }
      },
      "source": [
        "type(loader)"
      ],
      "execution_count": 12,
      "outputs": [
        {
          "output_type": "execute_result",
          "data": {
            "text/plain": [
              "__main__.DataLoader"
            ]
          },
          "metadata": {
            "tags": []
          },
          "execution_count": 12
        }
      ]
    },
    {
      "cell_type": "code",
      "metadata": {
        "id": "NC8igMsyXmba"
      },
      "source": [
        "\n",
        "def read_image(path):\n",
        "    image = cv2.imread(path)\n",
        "    return cv2.cvtColor(image, cv2.COLOR_BGR2RGB)\n",
        "\n",
        "\n",
        "def default_transforms():\n",
        "    return transforms.Compose([transforms.ToTensor(), normalize_transform()])\n",
        "\n",
        "\n",
        "def filter_top_p(labels, boxes, scores):\n",
        "    filtered_labels = []\n",
        "    filtered_boxes = []\n",
        "    filtered_scores = []\n",
        "\n",
        "    for label in set(labels):\n",
        "        index = labels.index(label)\n",
        "        filtered_labels.append(label)\n",
        "        filtered_boxes.append(boxes[index])\n",
        "        filtered_scores.append(scores[index])\n",
        "\n",
        "    if len(filtered_labels) == 0:\n",
        "        return filtered_labels, torch.empty(0, 4), torch.tensor(filtered_scores)\n",
        "    return filtered_labels, torch.stack(filtered_boxes), torch.tensor(filtered_scores)\n"
      ],
      "execution_count": 21,
      "outputs": []
    },
    {
      "cell_type": "code",
      "metadata": {
        "id": "7PW_aFeRvkFZ"
      },
      "source": [
        "\n",
        "model = Model(['plane'])\n",
        "#model = Model(['plane'])"
      ],
      "execution_count": 42,
      "outputs": []
    },
    {
      "cell_type": "code",
      "metadata": {
        "id": "HhQ_OhFXVvb0",
        "outputId": "2d37ee0f-90b9-4935-83f9-84a95efb2edd",
        "colab": {
          "base_uri": "https://localhost:8080/",
          "height": 1000
        }
      },
      "source": [
        "\n",
        "#losses = model.fit(loader, val_dataset, epochs=15,\n",
        "               #    learning_rate=0.0001, verbose=True)\n",
        "\n",
        "losses = model.fit(loader, val_dataset, epochs=20, learning_rate = .0001, verbose=True)\n",
        "# Visualize loss during training\n",
        "\n",
        "plt.plot(losses)\n",
        "plt.show()\n",
        "\n",
        "# Save model\n",
        "\n",
        "model.save('model_weights3.pt')\n",
        "\n",
        "# Access underlying torchvision model for further control\n",
        "\n",
        "torch_model = model.get_internal_model()\n",
        "print(type(torch_model))"
      ],
      "execution_count": 22,
      "outputs": [
        {
          "output_type": "stream",
          "text": [
            "optimizer is Adam\n",
            "Epoch 1 of 20\n"
          ],
          "name": "stdout"
        },
        {
          "output_type": "stream",
          "text": [
            "/usr/local/lib/python3.6/dist-packages/torchvision/ops/boxes.py:101: UserWarning: This overload of nonzero is deprecated:\n",
            "\tnonzero()\n",
            "Consider using one of the following signatures instead:\n",
            "\tnonzero(*, bool as_tuple) (Triggered internally at  /pytorch/torch/csrc/utils/python_arg_parser.cpp:766.)\n",
            "  keep = keep.nonzero().squeeze(1)\n"
          ],
          "name": "stderr"
        },
        {
          "output_type": "stream",
          "text": [
            "Loss: 0.17789209857583047\n",
            "Epoch 2 of 20\n",
            "Loss: 0.14327079678575197\n",
            "Epoch 3 of 20\n",
            "Loss: 0.13284855633974074\n",
            "Epoch 4 of 20\n",
            "Loss: 0.11790869943797588\n",
            "Epoch 5 of 20\n",
            "Loss: 0.10946646630764008\n",
            "Epoch 6 of 20\n",
            "Loss: 0.11532764670749505\n",
            "Epoch 7 of 20\n",
            "Loss: 0.10967044159770012\n",
            "Epoch 8 of 20\n",
            "Loss: 0.10320077513655027\n",
            "Epoch 9 of 20\n",
            "Loss: 0.10608817711472511\n",
            "Epoch 10 of 20\n",
            "Loss: 0.10056494648257891\n",
            "Epoch 11 of 20\n",
            "Loss: 0.10576862171292305\n",
            "Epoch 12 of 20\n",
            "Loss: 0.09731758584578833\n",
            "Epoch 13 of 20\n",
            "Loss: 0.09419651540617148\n",
            "Epoch 14 of 20\n",
            "Loss: 0.09321013937393824\n",
            "Epoch 15 of 20\n",
            "Loss: 0.0963840422530969\n",
            "Epoch 16 of 20\n",
            "Loss: 0.10152157358825206\n",
            "Epoch 17 of 20\n",
            "Loss: 0.08858656330655018\n",
            "Epoch 18 of 20\n",
            "Loss: 0.09239900764077902\n",
            "Epoch 19 of 20\n",
            "Loss: 0.09262184333056211\n",
            "Epoch 20 of 20\n",
            "Loss: 0.09330482445657254\n"
          ],
          "name": "stdout"
        },
        {
          "output_type": "display_data",
          "data": {
            "image/png": "[encoded data removed]",
            "text/plain": [
              "<Figure size 432x288 with 1 Axes>"
            ]
          },
          "metadata": {
            "tags": [],
            "needs_background": "light"
          }
        },
        {
          "output_type": "stream",
          "text": [
            "<class 'torchvision.models.detection.faster_rcnn.FasterRCNN'>\n"
          ],
          "name": "stdout"
        }
      ]
    },
    {
      "cell_type": "code",
      "metadata": {
        "id": "VIy4mSdv2OPc"
      },
      "source": [
        "#plot prediction image image"
      ],
      "execution_count": null,
      "outputs": []
    },
    {
      "cell_type": "code",
      "metadata": {
        "id": "cMUmrZ3m2j20"
      },
      "source": [
        "PATH = 'model_weights3.pt'"
      ],
      "execution_count": 43,
      "outputs": []
    },
    {
      "cell_type": "code",
      "metadata": {
        "id": "oDnhRlW52j6v"
      },
      "source": [
        ""
      ],
      "execution_count": null,
      "outputs": []
    },
    {
      "cell_type": "code",
      "metadata": {
        "id": "cM6rpFjxiyOL"
      },
      "source": [
        "#predict\n",
        "model = Model.load(PATH,['plane'])"
      ],
      "execution_count": 61,
      "outputs": []
    },
    {
      "cell_type": "code",
      "metadata": {
        "id": "8b8vS3Dr-FNR"
      },
      "source": [
        "imagePath = '/content/drive/My Drive/praying pals/airplane detector/trainimages/14.png'"
      ],
      "execution_count": 62,
      "outputs": []
    },
    {
      "cell_type": "code",
      "metadata": {
        "id": "9lVf5zJwCIoA"
      },
      "source": [
        "image = read_image(imagePath)"
      ],
      "execution_count": 63,
      "outputs": []
    },
    {
      "cell_type": "code",
      "metadata": {
        "id": "iUwYGwmBDDi7"
      },
      "source": [
        ""
      ],
      "execution_count": 63,
      "outputs": []
    },
    {
      "cell_type": "code",
      "metadata": {
        "id": "lJkpPX2RCOTT"
      },
      "source": [
        " preds = model.predict(image)"
      ],
      "execution_count": 64,
      "outputs": []
    },
    {
      "cell_type": "code",
      "metadata": {
        "id": "20Q7eCRMCOYN",
        "outputId": "b99b12f4-20d2-4873-beb8-8752f5a92e0e",
        "colab": {
          "base_uri": "https://localhost:8080/",
          "height": 72
        }
      },
      "source": [
        "preds"
      ],
      "execution_count": 65,
      "outputs": [
        {
          "output_type": "execute_result",
          "data": {
            "text/plain": [
              "(['plane'],\n",
              " tensor([[423.5542,  78.9303, 469.9962, 109.1743]]),\n",
              " tensor([0.9739]))"
            ]
          },
          "metadata": {
            "tags": []
          },
          "execution_count": 65
        }
      ]
    },
    {
      "cell_type": "code",
      "metadata": {
        "id": "y75DbiJ02kCZ",
        "outputId": "03de4af1-acdb-42a8-e579-b12a612ac489",
        "colab": {
          "base_uri": "https://localhost:8080/",
          "height": 636
        }
      },
      "source": [
        "fig, axes = plt.subplots(1, 1, figsize=[20,20])\n",
        "\n",
        "preds = model.predict(image)\n",
        "score_filter = 0.8\n",
        "\n",
        "# If already a tensor, reverse normalize it and turn it back\n",
        "if isinstance(image, torch.Tensor):\n",
        "    image = transforms.ToPILImage()(reverse_normalize(image))\n",
        "\n",
        "axes.imshow(image)\n",
        "\n",
        "# Plot boxes and labels\n",
        "for label, box, score in zip(*preds):\n",
        "\n",
        "    if score >= score_filter:\n",
        "        width, height = box[2] - box[0], box[3] - box[1]\n",
        "        initial_pos = (box[0], box[1])\n",
        "        rect = patches.Rectangle(initial_pos, width, height, linewidth=1,\n",
        "                                    edgecolor='r', facecolor='none')\n",
        "        axes.add_patch(rect)\n",
        "\n",
        "        axes.text(box[0] + 5, box[1] - 10, '{}: {}'\n",
        "                .format(label, round(score.item(), 2)), color='red')\n",
        "    axes.set_title('Image {}'.format(1))\n",
        "\n",
        "plt.show()"
      ],
      "execution_count": 74,
      "outputs": [
        {
          "output_type": "display_data",
          "data": {
            "image/png": "[encoded data removed]",
            "text/plain": [
              "<Figure size 1440x1440 with 1 Axes>"
            ]
          },
          "metadata": {
            "tags": [],
            "needs_background": "light"
          }
        }
      ]
    },
    {
      "cell_type": "code",
      "metadata": {
        "id": "pv9wpy4VCOb0"
      },
      "source": [
        ""
      ],
      "execution_count": null,
      "outputs": []
    },
    {
      "cell_type": "code",
      "metadata": {
        "id": "wvwLOhTY_BTv"
      },
      "source": [
        ""
      ],
      "execution_count": null,
      "outputs": []
    },
    {
      "cell_type": "code",
      "metadata": {
        "id": "Jl9NpHbS_BW3"
      },
      "source": [
        ""
      ],
      "execution_count": null,
      "outputs": []
    },
    {
      "cell_type": "code",
      "metadata": {
        "id": "cNLXebFe_Bax"
      },
      "source": [
        ""
      ],
      "execution_count": null,
      "outputs": []
    },
    {
      "cell_type": "code",
      "metadata": {
        "id": "HyGX7Ur5-FWb"
      },
      "source": [
        ""
      ],
      "execution_count": null,
      "outputs": []
    },
    {
      "cell_type": "code",
      "metadata": {
        "id": "Jh_E175f2OWA"
      },
      "source": [
        ""
      ],
      "execution_count": 25,
      "outputs": []
    },
    {
      "cell_type": "code",
      "metadata": {
        "id": "gZIJdD_T3d90"
      },
      "source": [
        ""
      ],
      "execution_count": null,
      "outputs": []
    },
    {
      "cell_type": "code",
      "metadata": {
        "id": "cSAe3ueR3eCF"
      },
      "source": [
        ""
      ],
      "execution_count": null,
      "outputs": []
    },
    {
      "cell_type": "code",
      "metadata": {
        "id": "kCmGhY7a3eFh"
      },
      "source": [
        ""
      ],
      "execution_count": null,
      "outputs": []
    },
    {
      "cell_type": "code",
      "metadata": {
        "id": "9ESUYyRf3eIi"
      },
      "source": [
        ""
      ],
      "execution_count": null,
      "outputs": []
    },
    {
      "cell_type": "code",
      "metadata": {
        "id": "lcc2Ps9I3eMb"
      },
      "source": [
        ""
      ],
      "execution_count": null,
      "outputs": []
    },
    {
      "cell_type": "code",
      "metadata": {
        "id": "K8F4Dwgk3eP2"
      },
      "source": [
        ""
      ],
      "execution_count": null,
      "outputs": []
    },
    {
      "cell_type": "code",
      "metadata": {
        "id": "wYK4vjmn3eTi"
      },
      "source": [
        ""
      ],
      "execution_count": null,
      "outputs": []
    },
    {
      "cell_type": "code",
      "metadata": {
        "id": "ltMzEEUh3eW9"
      },
      "source": [
        ""
      ],
      "execution_count": null,
      "outputs": []
    },
    {
      "cell_type": "code",
      "metadata": {
        "id": "2EoaOpno3edQ"
      },
      "source": [
        ""
      ],
      "execution_count": null,
      "outputs": []
    },
    {
      "cell_type": "code",
      "metadata": {
        "id": "DWBvqV9P3eg_"
      },
      "source": [
        ""
      ],
      "execution_count": null,
      "outputs": []
    },
    {
      "cell_type": "code",
      "metadata": {
        "id": "iQ0dlEPS3elC"
      },
      "source": [
        ""
      ],
      "execution_count": null,
      "outputs": []
    },
    {
      "cell_type": "code",
      "metadata": {
        "id": "af6yGDjJ3eov"
      },
      "source": [
        ""
      ],
      "execution_count": null,
      "outputs": []
    },
    {
      "cell_type": "code",
      "metadata": {
        "id": "d6A4ZUJw3esz"
      },
      "source": [
        ""
      ],
      "execution_count": null,
      "outputs": []
    },
    {
      "cell_type": "code",
      "metadata": {
        "id": "pon2K0qz3ewo"
      },
      "source": [
        ""
      ],
      "execution_count": null,
      "outputs": []
    },
    {
      "cell_type": "code",
      "metadata": {
        "id": "9PJWXOE-YG5e"
      },
      "source": [
        "#utils\n",
        "\n",
        "def default_transforms():\n",
        "    return transforms.Compose([transforms.ToTensor(), normalize_transform()])\n",
        "\n",
        "\n",
        "def filter_top_predictions(labels, boxes, scores):\n",
        "    filtered_labels = []\n",
        "    filtered_boxes = []\n",
        "    filtered_scores = []\n",
        "    # Loop through each unique label\n",
        "    for label in set(labels):\n",
        "        # Get first index of label, which is also its highest scoring occurrence\n",
        "        index = labels.index(label)\n",
        "\n",
        "        filtered_labels.append(label)\n",
        "        filtered_boxes.append(boxes[index])\n",
        "        filtered_scores.append(scores[index])\n",
        "\n",
        "    if len(filtered_labels) == 0:\n",
        "        return filtered_labels, torch.empty(0, 4), torch.tensor(filtered_scores)\n",
        "    return filtered_labels, torch.stack(filtered_boxes), torch.tensor(filtered_scores)\n",
        "\n",
        "\n",
        "def normalize_transform():\n",
        "    # Default for PyTorch's pre-trained models\n",
        "    return transforms.Normalize(mean=[0.485, 0.456, 0.406], std=[0.229, 0.224, 0.225])\n",
        "\n",
        "\n",
        "def read_image(path):\n",
        "    image = cv2.imread(path)\n",
        "    return cv2.cvtColor(image, cv2.COLOR_BGR2RGB)\n",
        "\n",
        "\n",
        "def reverse_normalize(image):\n",
        "    reverse = transforms.Normalize(mean=[-0.485 / 0.229, -0.456 / 0.224, -0.406 / 0.255],\n",
        "                                   std=[1 / 0.229, 1 / 0.224, 1 / 0.255])\n",
        "    return reverse(image)\n",
        "\n",
        "\n",
        "# Checks whether a variable is a list or tuple only\n",
        "def _is_iterable(variable):\n",
        "    return isinstance(variable, list) or isinstance(variable, tuple)\n",
        "\n"
      ],
      "execution_count": null,
      "outputs": []
    },
    {
      "cell_type": "code",
      "metadata": {
        "id": "jD6nYusX2ZQf"
      },
      "source": [
        ""
      ],
      "execution_count": null,
      "outputs": []
    },
    {
      "cell_type": "code",
      "metadata": {
        "id": "oI09d7CS2ZUe"
      },
      "source": [
        ""
      ],
      "execution_count": null,
      "outputs": []
    },
    {
      "cell_type": "code",
      "metadata": {
        "id": "7wpKQIA02ZYF"
      },
      "source": [
        ""
      ],
      "execution_count": null,
      "outputs": []
    },
    {
      "cell_type": "code",
      "metadata": {
        "id": "YSejmnHZ2ZcB"
      },
      "source": [
        "#import cv2\n",
        "import matplotlib.patches as patches\n",
        "import matplotlib.pyplot as plt\n",
        "import torch\n",
        "\n",
        "from utils import reverse_normalize, normalize_transform, _is_iterable\n",
        "from torchvision import transforms\n",
        "\n",
        "\n",
        "\n",
        "def plot_prediction_grid(model, images, dim=None, figsize=None, score_filter=0.6):\n",
        "\n",
        "    # If not specified, show all in one column\n",
        "    if dim is None:\n",
        "        dim = (len(images), 1)\n",
        "\n",
        "    if dim[0] * dim[1] != len(images):\n",
        "        raise ValueError('Grid dimensions do not match size of list of images')\n",
        "\n",
        "    fig, axes = plt.subplots(dim[0], dim[1], figsize=figsize)\n",
        "\n",
        "    # Loop through each image and position in the grid\n",
        "    index = 0\n",
        "    for i in range(dim[0]):\n",
        "        for j in range(dim[1]):\n",
        "            image = images[index]\n",
        "            preds = model.predict(image)\n",
        "\n",
        "            # If already a tensor, reverse normalize it and turn it back\n",
        "            if isinstance(image, torch.Tensor):\n",
        "                image = transforms.ToPILImage()(reverse_normalize(image))\n",
        "            index += 1\n",
        "\n",
        "            # Get the correct axis\n",
        "            if dim[0] <= 1 and dim[1] <= 1:\n",
        "                ax = axes\n",
        "            elif dim[0] <= 1:\n",
        "                ax = axes[j]\n",
        "            elif dim[1] <= 1:\n",
        "                ax = axes[i]\n",
        "            else:\n",
        "                ax = axes[i, j]\n",
        "\n",
        "            ax.imshow(image)\n",
        "\n",
        "            # Plot boxes and labels\n",
        "            for label, box, score in zip(*preds):\n",
        "                if score >= score_filter:\n",
        "                    width, height = box[2] - box[0], box[3] - box[1]\n",
        "                    initial_pos = (box[0], box[1])\n",
        "                    rect = patches.Rectangle(initial_pos, width, height, linewidth=1,\n",
        "                                             edgecolor='r', facecolor='none')\n",
        "                    ax.add_patch(rect)\n",
        "\n",
        "                    ax.text(box[0] + 5, box[1] - 10, '{}: {}'\n",
        "                            .format(label, round(score.item(), 2)), color='red')\n",
        "                ax.set_title('Image {}'.format(index))\n",
        "\n",
        "    plt.show()\n",
        "\n",
        "\n",
        "def show_labeled_image(image, boxes, labels=None):\n",
        "\n",
        "    fig, ax = plt.subplots(1)\n",
        "    # If the image is already a tensor, convert it back to a PILImage\n",
        "    # and reverse normalize it\n",
        "    if isinstance(image, torch.Tensor):\n",
        "        image = reverse_normalize(image)\n",
        "        image = transforms.ToPILImage()(image)\n",
        "    ax.imshow(image)\n",
        "\n",
        "    # Show a single box or multiple if provided\n",
        "    if boxes.ndim == 1:\n",
        "        boxes = boxes.view(1, 4)\n",
        "\n",
        "    if labels is not None and not _is_iterable(labels):\n",
        "        labels = [labels]\n",
        "\n",
        "    # Plot each box\n",
        "    for i in range(boxes.shape[0]):\n",
        "        box = boxes[i]\n",
        "        width, height = (box[2] - box[0]).item(), (box[3] - box[1]).item()\n",
        "        initial_pos = (box[0].item(), box[1].item())\n",
        "        rect = patches.Rectangle(initial_pos,  width, height, linewidth=1,\n",
        "                                 edgecolor='r', facecolor='none')\n",
        "        if labels:\n",
        "            ax.text(box[0] + 5, box[1] - 5, '{}'.format(labels[i]), color='red')\n",
        "\n",
        "        ax.add_patch(rect)\n",
        "\n",
        "    plt.show()\n",
        "\n"
      ],
      "execution_count": null,
      "outputs": []
    },
    {
      "cell_type": "code",
      "metadata": {
        "id": "vyBK3ZFl2Zfi"
      },
      "source": [
        ""
      ],
      "execution_count": null,
      "outputs": []
    }
  ]
}